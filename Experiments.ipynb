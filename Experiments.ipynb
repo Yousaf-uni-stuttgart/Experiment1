{
 "cells": [
  {
   "cell_type": "code",
   "execution_count": 3,
   "metadata": {},
   "outputs": [
    {
     "name": "stdout",
     "output_type": "stream",
     "text": [
      "Bismillah\n"
     ]
    }
   ],
   "source": [
    "print (\"Bismillah\")"
   ]
  },
  {
   "cell_type": "code",
   "execution_count": 4,
   "metadata": {},
   "outputs": [
    {
     "name": "stdout",
     "output_type": "stream",
     "text": [
      "Package                           Version  \n",
      "--------------------------------- ---------\n",
      "backcall                          0.1.0    \n",
      "bleach                            2.1.4    \n",
      "boto                              2.49.0   \n",
      "boto3                             1.9.1    \n",
      "botocore                          1.12.1   \n",
      "bz2file                           0.98     \n",
      "certifi                           2018.8.24\n",
      "chardet                           3.0.4    \n",
      "colorama                          0.3.9    \n",
      "cymem                             2.0.2    \n",
      "cytoolz                           0.9.0.1  \n",
      "decorator                         4.3.0    \n",
      "defusedxml                        0.5.0    \n",
      "dill                              0.2.8.2  \n",
      "docutils                          0.14     \n",
      "en-core-web-sm                    2.0.0    \n",
      "entrypoints                       0.2.3    \n",
      "gensim                            3.6.0    \n",
      "html5lib                          1.0.1    \n",
      "idna                              2.7      \n",
      "ipykernel                         4.9.0    \n",
      "ipython                           6.5.0    \n",
      "ipython-genutils                  0.2.0    \n",
      "ipywidgets                        7.4.1    \n",
      "jedi                              0.12.1   \n",
      "Jinja2                            2.10     \n",
      "jmespath                          0.9.3    \n",
      "jsonschema                        2.6.0    \n",
      "jupyter                           1.0.0    \n",
      "jupyter-client                    5.2.3    \n",
      "jupyter-console                   5.2.0    \n",
      "jupyter-contrib-core              0.3.3    \n",
      "jupyter-contrib-nbextensions      0.5.0    \n",
      "jupyter-core                      4.4.0    \n",
      "jupyter-highlight-selected-word   0.2.0    \n",
      "jupyter-latex-envs                1.4.4    \n",
      "jupyter-nbextensions-configurator 0.4.0    \n",
      "Keras-Applications                1.0.5    \n",
      "Keras-Preprocessing               1.0.3    \n",
      "lxml                              4.2.5    \n",
      "MarkupSafe                        1.0      \n",
      "mistune                           0.8.3    \n",
      "msgpack                           0.5.6    \n",
      "msgpack-numpy                     0.4.3.2  \n",
      "murmurhash                        1.0.1    \n",
      "nbconvert                         5.4.0    \n",
      "nbformat                          4.4.0    \n",
      "notebook                          5.6.0    \n",
      "numpy                             1.15.1   \n",
      "pandocfilters                     1.4.2    \n",
      "parso                             0.3.1    \n",
      "pickleshare                       0.7.4    \n",
      "pip                               18.1     \n",
      "plac                              0.9.6    \n",
      "preshed                           2.0.1    \n",
      "prometheus-client                 0.3.1    \n",
      "prompt-toolkit                    1.0.15   \n",
      "Pygments                          2.2.0    \n",
      "pyreadline                        2.1      \n",
      "python-dateutil                   2.7.3    \n",
      "pywinpty                          0.5.4    \n",
      "PyYAML                            3.13     \n",
      "pyzmq                             17.1.2   \n",
      "qtconsole                         4.4.1    \n",
      "regex                             2018.1.10\n",
      "requests                          2.19.1   \n",
      "s3transfer                        0.1.13   \n",
      "scipy                             1.1.0    \n",
      "Send2Trash                        1.5.0    \n",
      "setuptools                        39.0.1   \n",
      "simplegeneric                     0.8.1    \n",
      "six                               1.11.0   \n",
      "smart-open                        1.6.0    \n",
      "spacy                             2.0.16   \n",
      "terminado                         0.8.1    \n",
      "testpath                          0.3.1    \n",
      "thinc                             6.12.0   \n",
      "toolz                             0.9.0    \n",
      "tornado                           5.1      \n",
      "tqdm                              4.28.1   \n",
      "traitlets                         4.3.2    \n",
      "ujson                             1.35     \n",
      "urllib3                           1.23     \n",
      "virtualenv                        16.0.0   \n",
      "wcwidth                           0.1.7    \n",
      "webencodings                      0.5.1    \n",
      "wheel                             0.31.1   \n",
      "widgetsnbextension                3.4.1    \n",
      "wrapt                             1.10.11  \n"
     ]
    }
   ],
   "source": [
    "!pip list"
   ]
  },
  {
   "cell_type": "code",
   "execution_count": 6,
   "metadata": {},
   "outputs": [
    {
     "data": {
      "application/json": {
       "cell": {
        "!": "OSMagics",
        "HTML": "Other",
        "SVG": "Other",
        "bash": "Other",
        "capture": "ExecutionMagics",
        "cmd": "Other",
        "debug": "ExecutionMagics",
        "file": "Other",
        "html": "DisplayMagics",
        "javascript": "DisplayMagics",
        "js": "DisplayMagics",
        "latex": "DisplayMagics",
        "markdown": "DisplayMagics",
        "perl": "Other",
        "prun": "ExecutionMagics",
        "pypy": "Other",
        "python": "Other",
        "python2": "Other",
        "python3": "Other",
        "ruby": "Other",
        "script": "ScriptMagics",
        "sh": "Other",
        "svg": "DisplayMagics",
        "sx": "OSMagics",
        "system": "OSMagics",
        "time": "ExecutionMagics",
        "timeit": "ExecutionMagics",
        "writefile": "OSMagics"
       },
       "line": {
        "alias": "OSMagics",
        "alias_magic": "BasicMagics",
        "autocall": "AutoMagics",
        "automagic": "AutoMagics",
        "autosave": "KernelMagics",
        "bookmark": "OSMagics",
        "cd": "OSMagics",
        "clear": "KernelMagics",
        "cls": "KernelMagics",
        "colors": "BasicMagics",
        "config": "ConfigMagics",
        "connect_info": "KernelMagics",
        "copy": "Other",
        "ddir": "Other",
        "debug": "ExecutionMagics",
        "dhist": "OSMagics",
        "dirs": "OSMagics",
        "doctest_mode": "BasicMagics",
        "echo": "Other",
        "ed": "Other",
        "edit": "KernelMagics",
        "env": "OSMagics",
        "gui": "BasicMagics",
        "hist": "Other",
        "history": "HistoryMagics",
        "killbgscripts": "ScriptMagics",
        "ldir": "Other",
        "less": "KernelMagics",
        "load": "CodeMagics",
        "load_ext": "ExtensionMagics",
        "loadpy": "CodeMagics",
        "logoff": "LoggingMagics",
        "logon": "LoggingMagics",
        "logstart": "LoggingMagics",
        "logstate": "LoggingMagics",
        "logstop": "LoggingMagics",
        "ls": "Other",
        "lsmagic": "BasicMagics",
        "macro": "ExecutionMagics",
        "magic": "BasicMagics",
        "matplotlib": "PylabMagics",
        "mkdir": "Other",
        "more": "KernelMagics",
        "notebook": "BasicMagics",
        "page": "BasicMagics",
        "pastebin": "CodeMagics",
        "pdb": "ExecutionMagics",
        "pdef": "NamespaceMagics",
        "pdoc": "NamespaceMagics",
        "pfile": "NamespaceMagics",
        "pinfo": "NamespaceMagics",
        "pinfo2": "NamespaceMagics",
        "pip": "BasicMagics",
        "popd": "OSMagics",
        "pprint": "BasicMagics",
        "precision": "BasicMagics",
        "profile": "BasicMagics",
        "prun": "ExecutionMagics",
        "psearch": "NamespaceMagics",
        "psource": "NamespaceMagics",
        "pushd": "OSMagics",
        "pwd": "OSMagics",
        "pycat": "OSMagics",
        "pylab": "PylabMagics",
        "qtconsole": "KernelMagics",
        "quickref": "BasicMagics",
        "recall": "HistoryMagics",
        "rehashx": "OSMagics",
        "reload_ext": "ExtensionMagics",
        "ren": "Other",
        "rep": "Other",
        "rerun": "HistoryMagics",
        "reset": "NamespaceMagics",
        "reset_selective": "NamespaceMagics",
        "rmdir": "Other",
        "run": "ExecutionMagics",
        "save": "CodeMagics",
        "sc": "OSMagics",
        "set_env": "OSMagics",
        "store": "StoreMagics",
        "sx": "OSMagics",
        "system": "OSMagics",
        "tb": "ExecutionMagics",
        "time": "ExecutionMagics",
        "timeit": "ExecutionMagics",
        "unalias": "OSMagics",
        "unload_ext": "ExtensionMagics",
        "who": "NamespaceMagics",
        "who_ls": "NamespaceMagics",
        "whos": "NamespaceMagics",
        "xdel": "NamespaceMagics",
        "xmode": "BasicMagics"
       }
      },
      "text/plain": [
       "Available line magics:\n",
       "%alias  %alias_magic  %autocall  %automagic  %autosave  %bookmark  %cd  %clear  %cls  %colors  %config  %connect_info  %copy  %ddir  %debug  %dhist  %dirs  %doctest_mode  %echo  %ed  %edit  %env  %gui  %hist  %history  %killbgscripts  %ldir  %less  %load  %load_ext  %loadpy  %logoff  %logon  %logstart  %logstate  %logstop  %ls  %lsmagic  %macro  %magic  %matplotlib  %mkdir  %more  %notebook  %page  %pastebin  %pdb  %pdef  %pdoc  %pfile  %pinfo  %pinfo2  %popd  %pprint  %precision  %profile  %prun  %psearch  %psource  %pushd  %pwd  %pycat  %pylab  %qtconsole  %quickref  %recall  %rehashx  %reload_ext  %ren  %rep  %rerun  %reset  %reset_selective  %rmdir  %run  %save  %sc  %set_env  %store  %sx  %system  %tb  %time  %timeit  %unalias  %unload_ext  %who  %who_ls  %whos  %xdel  %xmode\n",
       "\n",
       "Available cell magics:\n",
       "%%!  %%HTML  %%SVG  %%bash  %%capture  %%cmd  %%debug  %%file  %%html  %%javascript  %%js  %%latex  %%markdown  %%perl  %%prun  %%pypy  %%python  %%python2  %%python3  %%ruby  %%script  %%sh  %%svg  %%sx  %%system  %%time  %%timeit  %%writefile\n",
       "\n",
       "Automagic is ON, % prefix IS NOT needed for line magics."
      ]
     },
     "execution_count": 6,
     "metadata": {},
     "output_type": "execute_result"
    }
   ],
   "source": [
    "%pwd\n",
    "%lsmagic"
   ]
  },
  {
   "cell_type": "code",
   "execution_count": 13,
   "metadata": {},
   "outputs": [
    {
     "name": "stdout",
     "output_type": "stream",
     "text": [
      "hey\n"
     ]
    }
   ],
   "source": [
    "print(\"hey\")"
   ]
  },
  {
   "cell_type": "code",
   "execution_count": 6,
   "metadata": {},
   "outputs": [
    {
     "data": {
      "text/plain": [
       "'C:\\\\Users\\\\Yousuf Khan\\\\heynotebook'"
      ]
     },
     "execution_count": 6,
     "metadata": {},
     "output_type": "execute_result"
    }
   ],
   "source": [
    "% pwd"
   ]
  }
 ],
 "metadata": {
  "kernelspec": {
   "display_name": "Python 3",
   "language": "python",
   "name": "python3"
  },
  "language_info": {
   "codemirror_mode": {
    "name": "ipython",
    "version": 3
   },
   "file_extension": ".py",
   "mimetype": "text/x-python",
   "name": "python",
   "nbconvert_exporter": "python",
   "pygments_lexer": "ipython3",
   "version": "3.6.5"
  }
 },
 "nbformat": 4,
 "nbformat_minor": 2
}
